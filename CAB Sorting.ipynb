{
 "cells": [
  {
   "cell_type": "code",
   "execution_count": 49,
   "id": "f10b108e",
   "metadata": {},
   "outputs": [],
   "source": [
    "import os\n",
    "import pandas as pd\n",
    "import pypdf\n",
    "import shutil\n",
    "from PIL import Image\n",
    "import numpy as np\n",
    "from pdf2image import convert_from_path\n",
    "from matplotlib import pyplot as plt\n",
    "import cv2\n",
    "\n",
    "%matplotlib inline"
   ]
  },
  {
   "cell_type": "markdown",
   "id": "e262ff91",
   "metadata": {},
   "source": [
    "# Categorizing Docs\n",
    "\n",
    "Because we don't have any way to organize docs we're going to naively group the documents together. We only really have the doc names to try to organize things, we'll start with the largest groups and do analysis from there.\n",
    "\n",
    "Assumptions:\n",
    "- we're only interested in docs with 'cab' in the name \n",
    "- the fund name is after the 'cab' portion of the name \n",
    "\n",
    "We're narrowing down our exploration to the top 5 groups and narrowing it down to PDFs with 1 page only; we don't want to spend time categorizing what our page of interest is, although we might want to figure that out another day"
   ]
  },
  {
   "cell_type": "code",
   "execution_count": 83,
   "id": "6a6bb7da",
   "metadata": {},
   "outputs": [],
   "source": [
    "sample_dir = r\"sample_cabs\"\n",
    "\n",
    "sample_files = []\n",
    "for filename in os.listdir(sample_dir):\n",
    "    if filename.endswith(\".pdf\"):\n",
    "        sample_files.append(filename)"
   ]
  },
  {
   "cell_type": "code",
   "execution_count": 86,
   "id": "10a590ec",
   "metadata": {},
   "outputs": [
    {
     "name": "stdout",
     "output_type": "stream",
     "text": [
      "total number of files: 2056\n",
      "number of potentially different funds: 806\n",
      "number of interesting funds: 93\n",
      "total docs: 872\n"
     ]
    },
    {
     "data": {
      "text/html": [
       "<div>\n",
       "<style scoped>\n",
       "    .dataframe tbody tr th:only-of-type {\n",
       "        vertical-align: middle;\n",
       "    }\n",
       "\n",
       "    .dataframe tbody tr th {\n",
       "        vertical-align: top;\n",
       "    }\n",
       "\n",
       "    .dataframe thead th {\n",
       "        text-align: right;\n",
       "    }\n",
       "</style>\n",
       "<table border=\"1\" class=\"dataframe\">\n",
       "  <thead>\n",
       "    <tr style=\"text-align: right;\">\n",
       "      <th></th>\n",
       "      <th>fund</th>\n",
       "      <th>file_name</th>\n",
       "      <th>num_docs</th>\n",
       "    </tr>\n",
       "  </thead>\n",
       "  <tbody>\n",
       "    <tr>\n",
       "      <th>693</th>\n",
       "      <td>ss</td>\n",
       "      <td>[2021.09.30.CAB.SS AP B.Farley I.pdf, 2021.09....</td>\n",
       "      <td>72</td>\n",
       "    </tr>\n",
       "    <tr>\n",
       "      <th>143</th>\n",
       "      <td>carlyle</td>\n",
       "      <td>[2021.09.30.CAB.Carlyle Realty VII.CPO II Para...</td>\n",
       "      <td>30</td>\n",
       "    </tr>\n",
       "    <tr>\n",
       "      <th>673</th>\n",
       "      <td>silverstone</td>\n",
       "      <td>[2021.09.30.CAB.SilverStone II-D.Montauk.pdf, ...</td>\n",
       "      <td>27</td>\n",
       "    </tr>\n",
       "    <tr>\n",
       "      <th>543</th>\n",
       "      <td>ocm</td>\n",
       "      <td>[2021.09.30.CAB.OCM XI Feeder.TransGlobe.pdf, ...</td>\n",
       "      <td>24</td>\n",
       "    </tr>\n",
       "    <tr>\n",
       "      <th>94</th>\n",
       "      <td>bain</td>\n",
       "      <td>[2021.09.30.CAB.Bain XII.Midland.pdf, 2021.09....</td>\n",
       "      <td>21</td>\n",
       "    </tr>\n",
       "    <tr>\n",
       "      <th>33</th>\n",
       "      <td>ag</td>\n",
       "      <td>[2021.09.30.CAB.AG Energy Credit Opps.CCCERA.p...</td>\n",
       "      <td>20</td>\n",
       "    </tr>\n",
       "  </tbody>\n",
       "</table>\n",
       "</div>"
      ],
      "text/plain": [
       "            fund                                          file_name  num_docs\n",
       "693           ss  [2021.09.30.CAB.SS AP B.Farley I.pdf, 2021.09....        72\n",
       "143      carlyle  [2021.09.30.CAB.Carlyle Realty VII.CPO II Para...        30\n",
       "673  silverstone  [2021.09.30.CAB.SilverStone II-D.Montauk.pdf, ...        27\n",
       "543          ocm  [2021.09.30.CAB.OCM XI Feeder.TransGlobe.pdf, ...        24\n",
       "94          bain  [2021.09.30.CAB.Bain XII.Midland.pdf, 2021.09....        21\n",
       "33            ag  [2021.09.30.CAB.AG Energy Credit Opps.CCCERA.p...        20"
      ]
     },
     "execution_count": 86,
     "metadata": {},
     "output_type": "execute_result"
    }
   ],
   "source": [
    "summary_df = pd.DataFrame({'file_name': sample_files})\n",
    "print('total number of files: ' + str(len(summary_df)))\n",
    "\n",
    "# only want files with 'cab' in it\n",
    "summary_df = summary_df[summary_df['file_name'].apply(lambda x: 'cab.' in x.lower())]\n",
    "# assuming first word after cab. is the primary fund word \n",
    "summary_df['fund'] = summary_df['file_name'].apply(lambda x: x.lower().split('cab.')[1].split()[0])\n",
    "\n",
    "grouped_fund_df = pd.DataFrame(summary_df.groupby('fund')['file_name'].apply(lambda x: list(x))).reset_index()\n",
    "grouped_fund_df['num_docs'] = grouped_fund_df['file_name'].apply(lambda x: len(x))\n",
    "grouped_fund_df = grouped_fund_df.sort_values('num_docs', ascending = False)\n",
    "print('number of potentially different funds: ' + str(len(grouped_fund_df)))\n",
    "# only want funds with more than 5 docs \n",
    "grouped_fund_df = grouped_fund_df[grouped_fund_df['num_docs'] >= 5]\n",
    "print('number of interesting funds: ' + str(len(grouped_fund_df)))\n",
    "print('total docs: ' + str(sum(grouped_fund_df['num_docs'])))\n",
    "\n",
    "interest_group_df = grouped_fund_df.head(6)\n",
    "\n",
    "interest_group_df"
   ]
  },
  {
   "cell_type": "code",
   "execution_count": 87,
   "id": "918c1d54",
   "metadata": {},
   "outputs": [
    {
     "data": {
      "text/html": [
       "<div>\n",
       "<style scoped>\n",
       "    .dataframe tbody tr th:only-of-type {\n",
       "        vertical-align: middle;\n",
       "    }\n",
       "\n",
       "    .dataframe tbody tr th {\n",
       "        vertical-align: top;\n",
       "    }\n",
       "\n",
       "    .dataframe thead th {\n",
       "        text-align: right;\n",
       "    }\n",
       "</style>\n",
       "<table border=\"1\" class=\"dataframe\">\n",
       "  <thead>\n",
       "    <tr style=\"text-align: right;\">\n",
       "      <th></th>\n",
       "      <th>fund</th>\n",
       "      <th>file_name</th>\n",
       "      <th>num_docs</th>\n",
       "    </tr>\n",
       "  </thead>\n",
       "  <tbody>\n",
       "    <tr>\n",
       "      <th>4</th>\n",
       "      <td>ss</td>\n",
       "      <td>[2021.09.30.CAB.SS AP B.Farley I.pdf, 2021.09....</td>\n",
       "      <td>71</td>\n",
       "    </tr>\n",
       "    <tr>\n",
       "      <th>3</th>\n",
       "      <td>silverstone</td>\n",
       "      <td>[2021.09.30.CAB.SilverStone II-D.Montauk.pdf, ...</td>\n",
       "      <td>27</td>\n",
       "    </tr>\n",
       "    <tr>\n",
       "      <th>0</th>\n",
       "      <td>ag</td>\n",
       "      <td>[2021.09.30.CAB.AG Energy Credit Opps.CCCERA.p...</td>\n",
       "      <td>20</td>\n",
       "    </tr>\n",
       "    <tr>\n",
       "      <th>1</th>\n",
       "      <td>bain</td>\n",
       "      <td>[2021.09.30.CAB.Bain XII.Midland.pdf, 2021.09....</td>\n",
       "      <td>19</td>\n",
       "    </tr>\n",
       "    <tr>\n",
       "      <th>2</th>\n",
       "      <td>carlyle</td>\n",
       "      <td>[2021.09.30.CAB.Carlyle Property Investors.BMO...</td>\n",
       "      <td>1</td>\n",
       "    </tr>\n",
       "  </tbody>\n",
       "</table>\n",
       "</div>"
      ],
      "text/plain": [
       "          fund                                          file_name  num_docs\n",
       "4           ss  [2021.09.30.CAB.SS AP B.Farley I.pdf, 2021.09....        71\n",
       "3  silverstone  [2021.09.30.CAB.SilverStone II-D.Montauk.pdf, ...        27\n",
       "0           ag  [2021.09.30.CAB.AG Energy Credit Opps.CCCERA.p...        20\n",
       "1         bain  [2021.09.30.CAB.Bain XII.Midland.pdf, 2021.09....        19\n",
       "2      carlyle  [2021.09.30.CAB.Carlyle Property Investors.BMO...         1"
      ]
     },
     "execution_count": 87,
     "metadata": {},
     "output_type": "execute_result"
    }
   ],
   "source": [
    "# re-expanding groups to get page numbers of each file \n",
    "exploded_interest_group_df = interest_group_df.explode('file_name').reset_index(drop=True).drop(['num_docs'], axis = 1)\n",
    "exploded_interest_group_df['num_pages'] = exploded_interest_group_df['file_name'].apply(lambda x: len(pypdf.PdfReader(os.path.join(sample_dir, x)).pages))\n",
    "exploded_interest_group_df = exploded_interest_group_df[exploded_interest_group_df['num_pages'] == 1]\n",
    "exploded_interest_group_df = pd.DataFrame(exploded_interest_group_df.groupby('fund')['file_name'].apply(lambda x: list(x))).reset_index()\n",
    "exploded_interest_group_df['num_docs'] = exploded_interest_group_df['file_name'].apply(lambda x: len(x))\n",
    "exploded_interest_group_df = exploded_interest_group_df.sort_values('num_docs', ascending = False)\n",
    "\n",
    "exploded_interest_group_df"
   ]
  },
  {
   "cell_type": "markdown",
   "id": "6572274a",
   "metadata": {},
   "source": [
    "# re-organizing and viewing doc differences"
   ]
  },
  {
   "cell_type": "code",
   "execution_count": 88,
   "id": "dddcce2c",
   "metadata": {},
   "outputs": [],
   "source": [
    "output_folder = 'generated_groupings'\n",
    "if os.path.isdir(output_folder):\n",
    "    shutil.rmtree(output_folder)\n",
    "os.makedirs(output_folder)\n",
    "\n",
    "for index, row in exploded_interest_group_df.iterrows():\n",
    "    fund_folder = os.path.join(output_folder, row['fund'])\n",
    "    os.makedirs(fund_folder)\n",
    "    for file in row['file_name']:\n",
    "        shutil.copyfile(os.path.join(sample_dir, file), os.path.join(fund_folder, file))"
   ]
  },
  {
   "cell_type": "code",
   "execution_count": 89,
   "id": "88d56047",
   "metadata": {
    "scrolled": true
   },
   "outputs": [
    {
     "name": "stdout",
     "output_type": "stream",
     "text": [
      "carlyle\n",
      " - 2021.09.30.CAB.Carlyle Property Investors.BMO Canada.pdf\n",
      "silverstone\n",
      " - 2021.09.30.CAB.SilverStone II-D.Montauk.pdf\n",
      " - 2021.09.30.CAB.SilverStone II-K Class 2.SS UWF.pdf\n",
      " - 2021.09.30.CAB.SilverStone III Off.Viceroy.pdf\n",
      " - 2021.09.30.CAB.SilverStone Pebbles IV.SSOF IV.pdf\n",
      " - 2021.09.30.CAB.SilverStone II-E.SS UWF.pdf\n",
      " - 2021.09.30.CAB.SilverStone Balfour.SSOF IV Off.pdf\n",
      "ag\n",
      " - 2021.09.30.CAB.AG Energy Credit Opps.CCCERA.pdf\n",
      " - 2021.09.30.CAB.AG Net Lease Realty IV.TransGlobe Life Insurance.pdf\n",
      " - 2021.09.30.CAB.AG Eur Realty III.CIRS.pdf\n",
      " - 2021.09.30.CAB.AG Commercial RED Opps.W VA.pdf\n",
      " - 2021.09.30.CAB.AG Realty VIII A.Texas Education Agency.pdf\n",
      " - 2021.09.30.CAB.AG Realty X.COH Beckman.pdf\n",
      "bain\n",
      " - 2021.09.30.CAB.Bain XII.Midland.pdf\n",
      " - 2021.09.30.CAB.Bain IX CoInv.GESB.pdf\n",
      " - 2021.09.30.CAB.Bain X.Ferro.pdf\n",
      " - 2021.09.30.CAB.Bain VIII E.Midland.pdf\n",
      " - 2021.09.30.CAB.Bain Europe III.GESB.pdf\n",
      " - 2021.09.30.CAB.Bain VII.Viceroy.pdf\n",
      "ss\n",
      " - 2021.09.30.CAB.SS AP B.Farley I.pdf\n",
      " - 2021.09.30.CAB.SS NL Opps II.SS NL GP.pdf\n",
      " - 2021.09.30.CAB.SS Ferro Holdgs.Ferro.pdf\n",
      " - 2021.09.30.CAB.SS NPS PE II A.SS Partners.pdf\n",
      " - 2021.09.30.CAB.SS Tactical Off.SS Partners.pdf\n",
      " - 2021.09.30.CAB.SS BVK II.SS Partners.pdf\n"
     ]
    }
   ],
   "source": [
    "image_dict = {}\n",
    "\n",
    "for fund_folder in os.listdir(output_folder):\n",
    "    print(fund_folder)\n",
    "    image_list = [] \n",
    "    iterator = 0\n",
    "    for file in os.listdir(os.path.join(output_folder, fund_folder)):\n",
    "        print(' - ' + file)\n",
    "        file_img = convert_from_path(os.path.join(output_folder, fund_folder, file), fmt='jpeg')[0]\n",
    "        file_img = cv2.cvtColor(np.array(file_img), cv2.COLOR_RGB2BGR)\n",
    "        image_list.append(file_img)\n",
    "        iterator += 1 \n",
    "        if iterator > 5:\n",
    "            break\n",
    "    image_dict[fund_folder] = image_list"
   ]
  },
  {
   "cell_type": "code",
   "execution_count": 94,
   "id": "09cbe92e",
   "metadata": {},
   "outputs": [],
   "source": [
    "combined_image_dict = {}\n",
    "for fund in image_dict.keys():\n",
    "    img1 = image_dict[fund][0]\n",
    "    for image in image_dict[fund][1:]:\n",
    "        if image.size == img1.size:\n",
    "            img1 = img1 + image #Image.blend(img1, image, 0.5)\n",
    "    combined_image_dict[fund] = img1"
   ]
  },
  {
   "cell_type": "code",
   "execution_count": 95,
   "id": "3a2b8515-fc20-47f8-b0ce-4d3c233f1b83",
   "metadata": {},
   "outputs": [],
   "source": [
    "for fund in combined_image_dict.keys():\n",
    "    file_dest = os.path.join(output_folder, fund)\n",
    "    cv2.imwrite(os.path.join(file_dest, 'merge_img.jpg'), combined_image_dict[fund])"
   ]
  }
 ],
 "metadata": {
  "kernelspec": {
   "display_name": "Python 3 (ipykernel)",
   "language": "python",
   "name": "python3"
  },
  "language_info": {
   "codemirror_mode": {
    "name": "ipython",
    "version": 3
   },
   "file_extension": ".py",
   "mimetype": "text/x-python",
   "name": "python",
   "nbconvert_exporter": "python",
   "pygments_lexer": "ipython3",
   "version": "3.10.12"
  }
 },
 "nbformat": 4,
 "nbformat_minor": 5
}
